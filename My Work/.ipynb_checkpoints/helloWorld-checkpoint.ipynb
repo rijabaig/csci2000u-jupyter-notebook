{
 "cells": [
  {
   "cell_type": "markdown",
   "id": "ca557a0d",
   "metadata": {},
   "source": [
    "Tutorial 2 - Hello World #\n",
    "\n",
    "Uncomment and run the cell below to test your environment and complete your task."
   ]
  },
  {
   "cell_type": "code",
   "execution_count": null,
   "id": "0d21515e",
   "metadata": {},
   "outputs": [],
   "source": [
    "import datetime\n",
    "\n",
    "print(datetime.datetime.now())"
   ]
  },
  {
   "cell_type": "markdown",
   "id": "85b7e824",
   "metadata": {},
   "source": [
    "Add your name and student ID\n",
    "\n",
    "**Name: Rija Baig**\n",
    "\n",
    "**Student ID:100746674**"
   ]
  }
 ],
 "metadata": {
  "kernelspec": {
   "display_name": "Python 3 (ipykernel)",
   "language": "python",
   "name": "python3"
  },
  "language_info": {
   "codemirror_mode": {
    "name": "ipython",
    "version": 3
   },
   "file_extension": ".py",
   "mimetype": "text/x-python",
   "name": "python",
   "nbconvert_exporter": "python",
   "pygments_lexer": "ipython3",
   "version": "3.8.11"
  }
 },
 "nbformat": 4,
 "nbformat_minor": 5
}
