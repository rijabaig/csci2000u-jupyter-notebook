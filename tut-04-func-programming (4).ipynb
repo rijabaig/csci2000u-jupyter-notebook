{
 "cells": [
  {
   "cell_type": "markdown",
   "metadata": {},
   "source": [
    "# CSCI2000U - Scientific Data Analysis\n",
    "## Tutorial 04: Functional Programming \n",
    "\n",
    "**Goal**\n",
    "1. Applying functional analysis of the Boston housing dataset\n",
    "\n",
    "In this tutorial we will explore a the Boston housing dataset. You are given the code that loads the `json` file with the data. After loading the data, solve each of the tasks outlined in this document to complete you tutorial assignment.\n",
    "\n",
    "*Please note that you need to upload the dataset/json file into your jupyter notebook server and modify the path depending on the location where the file was uploaded.*\n",
    "\n",
    "- Importing libraries"
   ]
  },
  {
   "cell_type": "code",
   "execution_count": null,
   "metadata": {},
   "outputs": [],
   "source": [
    "import json\n",
    "from functools import reduce"
   ]
  },
  {
   "cell_type": "markdown",
   "metadata": {},
   "source": [
    "- loading the dataset into `data` from the `path`"
   ]
  },
  {
   "cell_type": "code",
   "execution_count": null,
   "metadata": {},
   "outputs": [],
   "source": [
    "path = 'boston_housing.json'\n",
    "with open(path) as f:\n",
    "    data = json.load(f)"
   ]
  },
  {
   "cell_type": "markdown",
   "metadata": {},
   "source": [
    "- exploring the keys of `data`"
   ]
  },
  {
   "cell_type": "code",
   "execution_count": null,
   "metadata": {},
   "outputs": [],
   "source": [
    "data.keys()"
   ]
  },
  {
   "cell_type": "markdown",
   "metadata": {},
   "source": [
    "- Accessing the data field `descr` which shows the name and description of each of the data columns. We can refer to them as *attributes*."
   ]
  },
  {
   "cell_type": "code",
   "execution_count": null,
   "metadata": {},
   "outputs": [],
   "source": [
    "data['descr']"
   ]
  },
  {
   "cell_type": "markdown",
   "metadata": {},
   "source": [
    "- accessing the data field `rows`"
   ]
  },
  {
   "cell_type": "code",
   "execution_count": null,
   "metadata": {},
   "outputs": [],
   "source": [
    "rows = data['rows']\n",
    "len(rows)"
   ]
  },
  {
   "cell_type": "markdown",
   "metadata": {},
   "source": [
    "- To access a data field/column of a given row, we can use \n",
    "```\n",
    "rows[<row index>][<attribute name>]\n",
    "``` \n",
    "See example:"
   ]
  },
  {
   "cell_type": "code",
   "execution_count": null,
   "metadata": {},
   "outputs": [],
   "source": [
    "rows[0]['PRICE']"
   ]
  },
  {
   "cell_type": "markdown",
   "metadata": {},
   "source": [
    "### TASK 1\n",
    "\n",
    "**Compute the average price of all houses**\n",
    "\n",
    " We will use reduce because we are converting a list of elements into a single number\n",
    "\n",
    " We want to compute the total first, and divide by `len(rows)`. Store the result in `average_price`."
   ]
  },
  {
   "cell_type": "code",
   "execution_count": null,
   "metadata": {},
   "outputs": [],
   "source": [
    "# Your solutioon\n",
    "n(rows)"
   ]
  },
  {
   "cell_type": "code",
   "execution_count": null,
   "metadata": {},
   "outputs": [],
   "source": [
    "print(\"AVERAGE PRICE: \", average_price)"
   ]
  },
  {
   "cell_type": "markdown",
   "metadata": {},
   "source": [
    "### TASK 2\n",
    "**Find the houses that are *under* the average price.**\n",
    "\n",
    "We should create a predicate function to the test if the price is under `average_price`.\n",
    "\n",
    "Then, display the first 3 results as a list using `filter`"
   ]
  },
  {
   "cell_type": "code",
   "execution_count": null,
   "metadata": {},
   "outputs": [],
   "source": [
    "#\n",
    "# Find the houses that are *under* the average price.ce"
   ]
  },
  {
   "cell_type": "code",
   "execution_count": null,
   "metadata": {},
   "outputs": [],
   "source": [
    "# List three houses that are UNDER the average price.\n"
   ]
  },
  {
   "cell_type": "markdown",
   "metadata": {},
   "source": [
    "### TASK 3\n",
    "**Find the houses with prices *between* `average_price-std_dev` and `average_price-std_dev` where `std_dev` is the standand deviation.**\n",
    "\n",
    ">standard deviation = square root of `variance`\n",
    "\n",
    "> variance = [sum of (`house[\"PRICE\"]` - `average_price`) ** 2] / `len(houses)`\n",
    "\n",
    "Strategy\n",
    "1. We will use `reduce` because we are converting a list of elements into a single number `sum_variance`.\n",
    "2. We want to compute `sum_variance` first, and divide it by `len(rows)`. Store the result in `variance_price`.\n",
    "3. We can use the `variance_price` to calculate the `std_dev`.\n",
    "4. We should create a predicate function to the test if the price is between `average_price` more or less the `std_dev`.\n",
    "\n",
    "Then, display the first 3 results as a list using `filter`."
   ]
  },
  {
   "cell_type": "code",
   "execution_count": null,
   "metadata": {},
   "outputs": [],
   "source": [
    "# Calculate the varaice / std_dev\n"
   ]
  },
  {
   "cell_type": "code",
   "execution_count": null,
   "metadata": {},
   "outputs": [],
   "source": [
    "# Find house prices between average_price -/+ std_dev\n"
   ]
  },
  {
   "cell_type": "code",
   "execution_count": null,
   "metadata": {},
   "outputs": [],
   "source": [
    "# List first 3 houses with prices between average_price-std_dev and average_price+std_dev\n"
   ]
  },
  {
   "cell_type": "markdown",
   "metadata": {},
   "source": [
    "### TASK 4\n",
    "\n",
    "**Generate a report of CRIME and PRICE for the 297 houses that are below average.**\n",
    "\n",
    "The `houses` should be sorted by `PRICE`. \n",
    "\n",
    "The result should be reported using the format: `\"CRIME: %.2f, ROOMS: %d, PRICE: %.2f\"`\n",
    "\n",
    "Strategy:\n",
    " - Use filter from **Task 2** to get the `houses` below average.\n",
    " - Sorted the `houses` using \n",
    "<!--          ``` -->\n",
    "         sorted(<iterable>, key=<key>)\n",
    "<!--          ``` -->\n",
    " - Use `map` to map each of the houses to a report message.\n",
    " \n",
    " Reference for `sorted` function: https://www.w3schools.com/python/ref_func_sorted.asp"
   ]
  },
  {
   "cell_type": "code",
   "execution_count": null,
   "metadata": {},
   "outputs": [],
   "source": [
    "# report message\n"
   ]
  },
  {
   "cell_type": "code",
   "execution_count": null,
   "metadata": {},
   "outputs": [],
   "source": [
    "# 1. Get the list of houses\n",
    " \n",
    "# 2. Sort by their price\n",
    "\n",
    "# 3. Generate the report of the houses souses))"
   ]
  },
  {
   "cell_type": "markdown",
   "metadata": {},
   "source": [
    "## Tutorial Report\n",
    "\n",
    "At the **end of this tutorial session**, you will deliver a report via Canvas. \n",
    "\n",
    "Your report will be the compiled version of this notebook with your solution. You **MUST** submit:\n",
    "- both the `ipynb` and `PDF` (`File/Download as>PDF`) versions of this notebook.\n",
    "- both named `<lastname-firstname>-tutorial04`\n",
    "- Contain your Full name and student ID\n",
    "\n",
    "\n",
    "*Late tutorial submission policy:*\n",
    "- All tutorial reports are due at the **end of your tutorial session**.\n",
    "- Late tutorial reports will be accepted without penalty by (before) your next tutorial session, **no late reports will be accepted after**.\n",
    "\n",
    "*TA grading and feedback inquiries*\n",
    "- Your report grades will be posted via Canvas using the rubric provided by the instructor. You are encouraged to ask your TA on MS teams about feedback, as needed, as soon as your grades are published.\n"
   ]
  }
 ],
 "metadata": {
  "interpreter": {
   "hash": "815240bfca2d314df7130257296817be1ab89fca494ddc030e9972579f2d9bf1"
  },
  "kernelspec": {
   "display_name": "Python 3 (ipykernel)",
   "language": "python",
   "name": "python3"
  },
  "language_info": {
   "codemirror_mode": {
    "name": "ipython",
    "version": 3
   },
   "file_extension": ".py",
   "mimetype": "text/x-python",
   "name": "python",
   "nbconvert_exporter": "python",
   "pygments_lexer": "ipython3",
   "version": "3.8.11"
  }
 },
 "nbformat": 4,
 "nbformat_minor": 4
}
